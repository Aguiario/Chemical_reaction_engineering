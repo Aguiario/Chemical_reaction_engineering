{
 "cells": [
  {
   "cell_type": "code",
   "execution_count": 5,
   "metadata": {},
   "outputs": [],
   "source": [
    "import numpy as np\n",
    "import pandas as pd\n",
    "import matplotlib.pyplot as plt\n",
    "import scipy\n",
    "import sympy as sp\n",
    "import cantera as ct\n",
    "import utilities as utl\n",
    "from sympy import symbols, Eq\n",
    "from scipy.optimize import fsolve\n",
    "from sympy import symbols, Eq, simplify\n"
   ]
  },
  {
   "cell_type": "code",
   "execution_count": 6,
   "metadata": {},
   "outputs": [],
   "source": [
    "# Constantes\n",
    "R = 8.314  # Constante universal de gases, J/(mol·K)\n",
    "T0 = 298.15  # Temperatura estándar, K\n",
    "P = 101325  # Presión estándar (1 atm en Pa)"
   ]
  },
  {
   "cell_type": "code",
   "execution_count": 7,
   "metadata": {},
   "outputs": [],
   "source": [
    "reactants = np.array([[\"C2H5OH(l, ethanol)\", 1], [\"O2(g)\", 3]])\n",
    "products = np.array([[\"H2O(l)\", 3], [\"CO2(g)\", 2]])"
   ]
  },
  {
   "cell_type": "code",
   "execution_count": null,
   "metadata": {},
   "outputs": [
    {
     "ename": "SyntaxError",
     "evalue": "invalid syntax (3013375786.py, line 1)",
     "output_type": "error",
     "traceback": [
      "\u001b[1;36m  Cell \u001b[1;32mIn[8], line 1\u001b[1;36m\u001b[0m\n\u001b[1;33m    dG_f0, dH_f0, dS0, r_298K, p_298K = utl.standar_propieties(reactants, products):\u001b[0m\n\u001b[1;37m                                                                                   ^\u001b[0m\n\u001b[1;31mSyntaxError\u001b[0m\u001b[1;31m:\u001b[0m invalid syntax\n"
     ]
    }
   ],
   "source": [
    "dG_f0, dH_f0, dS0, r_298K, p_298K = utl.standar_propieties(reactants, products)\n"
   ]
  },
  {
   "cell_type": "code",
   "execution_count": null,
   "metadata": {},
   "outputs": [
    {
     "name": "stdout",
     "output_type": "stream",
     "text": [
      "Expresión para n_total:\n",
      "1.0*X + 4.0\n",
      "   T (K)  ΔGº (kJ/mol)    ln(Ka)        Ka\n",
      "0    350  -1483.956333  0.509968  1.665238\n",
      "1    500  -1488.010332  0.357953  1.430398\n",
      "2    600  -1490.712999  0.298836  1.348288\n",
      "3    800  -1496.118332  0.224940  1.252247\n",
      "4   1000  -1501.523664  0.180602  1.197938\n",
      "5   1200  -1506.928997  0.151043  1.163047\n",
      "6   1500  -1515.036997  0.121485  1.129172\n"
     ]
    }
   ],
   "source": [
    "# Temperaturas objetivo (en Kelvin)\n",
    "temperaturas = np.array([350, 500, 600, 800, 1000, 1200, 1500])\n",
    "\n",
    "# Cálculo de ΔGº para cada temperatura\n",
    "dG_values = dG_f0 + dS0 * (temperaturas - T0)  # ΔGº(T2) = ΔGº(T1) - ΔSº(T2 - T1)\n",
    "\n",
    "# Cálculo de K_a y ln(K_a)\n",
    "ln_Ka_values = -dG_values / (R * temperaturas)\n",
    "Ka_values = np.exp(ln_Ka_values)\n",
    "\n",
    "\n",
    "# Variable simbólica para el avance de la reacción\n",
    "X = symbols('X')\n",
    "\n",
    "# Calcular n_total dinámicamente\n",
    "reactants_coefficients = r_298K[\"Coefficient\"].values\n",
    "products_coefficients = p_298K[\"Coefficient\"].values\n",
    "\n",
    "# Número total de moles en equilibrio\n",
    "n_total = (\n",
    "    sum(coeff - coeff * X for coeff in reactants_coefficients) +\n",
    "    sum(coeff * X for coeff in products_coefficients)\n",
    ")\n",
    "n_total = simplify(n_total)  # Simplificar expresión\n",
    "\n",
    "# Verificar n_total\n",
    "print(\"Expresión para n_total:\")\n",
    "print(n_total)\n",
    "\n",
    "\n",
    "# Crear un DataFrame con los resultados\n",
    "resultados = pd.DataFrame({\n",
    "    'T (K)': temperaturas,\n",
    "    'ΔGº (kJ/mol)': dG_values,\n",
    "    'ln(Ka)': ln_Ka_values,\n",
    "    'Ka': Ka_values,\n",
    "    #'Xeq': Xeq_values\n",
    "})\n",
    "\n",
    "print(resultados)\n",
    "\n"
   ]
  }
 ],
 "metadata": {
  "kernelspec": {
   "display_name": "tool",
   "language": "python",
   "name": "python3"
  },
  "language_info": {
   "codemirror_mode": {
    "name": "ipython",
    "version": 3
   },
   "file_extension": ".py",
   "mimetype": "text/x-python",
   "name": "python",
   "nbconvert_exporter": "python",
   "pygments_lexer": "ipython3",
   "version": "3.10.15"
  }
 },
 "nbformat": 4,
 "nbformat_minor": 2
}
