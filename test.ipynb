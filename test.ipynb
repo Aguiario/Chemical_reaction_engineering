{
 "cells": [
  {
   "cell_type": "code",
   "execution_count": 1,
   "metadata": {},
   "outputs": [],
   "source": [
    "import numpy as np\n",
    "import pandas as pd\n",
    "import matplotlib.pyplot as plt\n",
    "import scipy\n",
    "import sympy as sp\n",
    "import cantera as ct\n",
    "import utilities as utl\n"
   ]
  },
  {
   "cell_type": "code",
   "execution_count": 2,
   "metadata": {},
   "outputs": [],
   "source": [
    "# Constantes\n",
    "R = 8.314  # Constante universal de gases, J/(mol·K)\n",
    "T0 = 298.15  # Temperatura estándar, K\n",
    "P = 101325  # Presión estándar (1 atm en Pa)"
   ]
  },
  {
   "cell_type": "code",
   "execution_count": 3,
   "metadata": {},
   "outputs": [],
   "source": [
    "reactants = np.array([[\"C2H5OH(l, ethanol)\", 1], [\"O2(g)\", 3]])\n",
    "products = np.array([[\"H2O(l)\", 3], [\"CO2(g)\", 2]])"
   ]
  },
  {
   "cell_type": "code",
   "execution_count": 4,
   "metadata": {},
   "outputs": [
    {
     "name": "stdout",
     "output_type": "stream",
     "text": [
      "Reactants Properties\n",
      "                Species  DHf°[kJ/mol]  S°[J/K·mol]  DGf°[kJ/mol]  Coefficient  \\\n",
      "58   C2H5OH(l, ethanol)       -277.69      160.700       -174.78          1.0   \n",
      "142               O2(g)          0.00      205.138          0.00          3.0   \n",
      "\n",
      "     Weighted_DHf  Weighted_DGf  Weighted_S  \n",
      "58        -277.69       -174.78     160.700  \n",
      "142          0.00          0.00     615.414  \n",
      "\n",
      "\n",
      "Products Properties\n",
      "   Species  DHf°[kJ/mol]  S°[J/K·mol]  DGf°[kJ/mol]  Coefficient  \\\n",
      "63  CO2(g)      -393.509       213.74      -394.359          3.0   \n",
      "89  H2O(l)      -285.830        69.91      -237.129          2.0   \n",
      "\n",
      "    Weighted_DHf  Weighted_DGf  Weighted_S  \n",
      "63     -1180.527     -1183.077      641.22  \n",
      "89      -571.660      -474.258      139.82  \n",
      "\n",
      "\n",
      "ΔGº: -1482.555 [kJ/mol], and it is spontaneous.\n",
      "ΔHº: -1474.4969999999998 [kJ/mol], and it is exothermic.\n",
      "ΔSº: -0.02702666443065645 [J/K·mol], and the disorder decreases.\n"
     ]
    }
   ],
   "source": [
    "dG_f0, dH_f0, dS0, r_298K, p_298K = utl.standard_properties(reactants, products)\n"
   ]
  },
  {
   "cell_type": "code",
   "execution_count": 5,
   "metadata": {},
   "outputs": [
    {
     "name": "stdout",
     "output_type": "stream",
     "text": [
      "   T (K)  ΔGº (kJ/mol)    ln(Ka)        Ka\n",
      "0    350  -1483.956333  0.509968  1.665238\n",
      "1    500  -1488.010332  0.357953  1.430398\n",
      "2    600  -1490.712999  0.298836  1.348288\n",
      "3    800  -1496.118332  0.224940  1.252247\n",
      "4   1000  -1501.523664  0.180602  1.197938\n",
      "5   1200  -1506.928997  0.151043  1.163047\n",
      "6   1500  -1515.036997  0.121485  1.129172\n"
     ]
    }
   ],
   "source": [
    "temperatures = np.array([350, 500, 600, 800, 1000, 1200, 1500])\n",
    "results = utl.properties_temperature(temperatures, dG_f0, dS0)"
   ]
  },
  {
   "cell_type": "code",
   "execution_count": 6,
   "metadata": {},
   "outputs": [
    {
     "name": "stdout",
     "output_type": "stream",
     "text": [
      "{'Kc': array([0.66609527, 0.57215932, 0.53931534, 0.50089884, 0.47917524,\n",
      "       0.46521882, 0.45166888]), 'Kp': array([1.66523816, 1.43039829, 1.34828835, 1.25224709, 1.19793811,\n",
      "       1.16304704, 1.12917221]), 'Ky': array([1.64346229e-05, 1.41169335e-05, 1.33065714e-05, 1.23587179e-05,\n",
      "       1.18227299e-05, 1.14783818e-05, 1.11440632e-05]), 'Kx': array([1.64346229e-05, 1.41169335e-05, 1.33065714e-05, 1.23587179e-05,\n",
      "       1.18227299e-05, 1.14783818e-05, 1.11440632e-05]), 'Ka': array([1.66523816, 1.43039829, 1.34828835, 1.25224709, 1.19793811,\n",
      "       1.16304704, 1.12917221])}\n"
     ]
    }
   ],
   "source": [
    "result = utl.convert_equilibrium_constants(K_type='a', K_value=np.array(results[\"Ka\"]), T=np.array(results[\"T (K)\"]), delta_n=1, P_total=P, C_total=2.5)\n",
    "print(result)"
   ]
  }
 ],
 "metadata": {
  "kernelspec": {
   "display_name": "tool",
   "language": "python",
   "name": "python3"
  },
  "language_info": {
   "codemirror_mode": {
    "name": "ipython",
    "version": 3
   },
   "file_extension": ".py",
   "mimetype": "text/x-python",
   "name": "python",
   "nbconvert_exporter": "python",
   "pygments_lexer": "ipython3",
   "version": "3.10.15"
  }
 },
 "nbformat": 4,
 "nbformat_minor": 2
}
