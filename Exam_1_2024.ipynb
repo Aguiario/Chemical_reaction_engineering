{
 "cells": [
  {
   "cell_type": "code",
   "execution_count": null,
   "metadata": {},
   "outputs": [],
   "source": [
    "import numpy as np\n",
    "import utilities as utl\n",
    "from sympy import symbols, Eq, solve"
   ]
  },
  {
   "cell_type": "code",
   "execution_count": null,
   "metadata": {},
   "outputs": [],
   "source": [
    "reactants = np.array([[\"CaCO3 (s; calcite)\", 1]])\n",
    "products = np.array([[\"CaO(s)\", 1], [\"CO2(g)\", 2]])"
   ]
  },
  {
   "cell_type": "code",
   "execution_count": null,
   "metadata": {},
   "outputs": [],
   "source": [
    "dG_f0, dH_f0, dS0, vi, K_y, r_298K, p_298K = utl.standard_properties(reactants, products)"
   ]
  },
  {
   "cell_type": "code",
   "execution_count": null,
   "metadata": {},
   "outputs": [],
   "source": [
    "temperatures = valores = np.linspace(300, 1500, num=12)\n",
    "temperatures = np.array([350, 500, 600, 800, 1000, 1200, 1500])\n",
    "results = utl.properties_temperature(temperatures, dG_f0, dS0, K_y=K_y)"
   ]
  },
  {
   "cell_type": "code",
   "execution_count": null,
   "metadata": {},
   "outputs": [],
   "source": [
    "utl.graphs(results)"
   ]
  }
 ],
 "metadata": {
  "kernelspec": {
   "display_name": "tool",
   "language": "python",
   "name": "python3"
  },
  "language_info": {
   "name": "python",
   "version": "3.10.15"
  }
 },
 "nbformat": 4,
 "nbformat_minor": 2
}
